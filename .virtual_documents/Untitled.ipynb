pip install django


from django.shortcuts import render


from django.shortcuts import render

def route(request):
   message = request.POST.get('"compile('for x in range(1):\n import time \n time.sleep(20)', 'a', 'single')"', '')
   
   ret = eval(message)
   
   return render(request, '/success.html', {'data':ret})
