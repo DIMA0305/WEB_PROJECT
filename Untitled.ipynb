{
 "cells": [
  {
   "cell_type": "code",
   "execution_count": 6,
   "id": "538447f5-3c23-4c99-9b26-df8ce52bf09a",
   "metadata": {},
   "outputs": [
    {
     "name": "stdout",
     "output_type": "stream",
     "text": [
      "Collecting django\n",
      "  Downloading Django-5.0.6-py3-none-any.whl.metadata (4.1 kB)\n",
      "Collecting asgiref<4,>=3.7.0 (from django)\n",
      "  Downloading asgiref-3.8.1-py3-none-any.whl.metadata (9.3 kB)\n",
      "Collecting sqlparse>=0.3.1 (from django)\n",
      "  Downloading sqlparse-0.5.0-py3-none-any.whl.metadata (3.9 kB)\n",
      "Requirement already satisfied: tzdata in c:\\users\\rnrdu\\anaconda3\\lib\\site-packages (from django) (2023.3)\n",
      "Downloading Django-5.0.6-py3-none-any.whl (8.2 MB)\n",
      "   ---------------------------------------- 0.0/8.2 MB ? eta -:--:--\n",
      "   ---------------------------------------- 0.0/8.2 MB 2.0 MB/s eta 0:00:04\n",
      "   ---------------------------------------- 0.1/8.2 MB 919.0 kB/s eta 0:00:09\n",
      "    --------------------------------------- 0.2/8.2 MB 1.3 MB/s eta 0:00:07\n",
      "   -- ------------------------------------- 0.6/8.2 MB 3.2 MB/s eta 0:00:03\n",
      "   --- ------------------------------------ 0.7/8.2 MB 3.5 MB/s eta 0:00:03\n",
      "   ---- ----------------------------------- 0.8/8.2 MB 3.3 MB/s eta 0:00:03\n",
      "   ---- ----------------------------------- 0.9/8.2 MB 3.0 MB/s eta 0:00:03\n",
      "   ---- ----------------------------------- 1.0/8.2 MB 3.0 MB/s eta 0:00:03\n",
      "   ----- ---------------------------------- 1.2/8.2 MB 3.0 MB/s eta 0:00:03\n",
      "   ------- -------------------------------- 1.6/8.2 MB 3.5 MB/s eta 0:00:02\n",
      "   ---------- ----------------------------- 2.1/8.2 MB 4.3 MB/s eta 0:00:02\n",
      "   ---------- ----------------------------- 2.1/8.2 MB 4.3 MB/s eta 0:00:02\n",
      "   ---------- ----------------------------- 2.1/8.2 MB 4.3 MB/s eta 0:00:02\n",
      "   ---------- ----------------------------- 2.1/8.2 MB 4.3 MB/s eta 0:00:02\n",
      "   ---------- ----------------------------- 2.1/8.2 MB 4.3 MB/s eta 0:00:02\n",
      "   ---------- ----------------------------- 2.2/8.2 MB 3.0 MB/s eta 0:00:02\n",
      "   -------------- ------------------------- 2.9/8.2 MB 3.7 MB/s eta 0:00:02\n",
      "   ---------------- ----------------------- 3.5/8.2 MB 4.3 MB/s eta 0:00:02\n",
      "   ------------------- -------------------- 3.9/8.2 MB 4.4 MB/s eta 0:00:01\n",
      "   ------------------- -------------------- 3.9/8.2 MB 4.4 MB/s eta 0:00:01\n",
      "   -------------------- ------------------- 4.2/8.2 MB 4.5 MB/s eta 0:00:01\n",
      "   -------------------- ------------------- 4.3/8.2 MB 4.3 MB/s eta 0:00:01\n",
      "   ---------------------- ----------------- 4.7/8.2 MB 4.4 MB/s eta 0:00:01\n",
      "   --------------------------- ------------ 5.7/8.2 MB 5.2 MB/s eta 0:00:01\n",
      "   ---------------------------- ----------- 5.7/8.2 MB 5.2 MB/s eta 0:00:01\n",
      "   ----------------------------- ---------- 6.1/8.2 MB 5.2 MB/s eta 0:00:01\n",
      "   ------------------------------- -------- 6.4/8.2 MB 5.2 MB/s eta 0:00:01\n",
      "   ------------------------------- -------- 6.5/8.2 MB 5.2 MB/s eta 0:00:01\n",
      "   --------------------------------- ------ 6.8/8.2 MB 5.2 MB/s eta 0:00:01\n",
      "   ------------------------------------ --- 7.6/8.2 MB 5.5 MB/s eta 0:00:01\n",
      "   ---------------------------------------  8.2/8.2 MB 5.8 MB/s eta 0:00:01\n",
      "   ---------------------------------------- 8.2/8.2 MB 5.7 MB/s eta 0:00:00\n",
      "Downloading asgiref-3.8.1-py3-none-any.whl (23 kB)\n",
      "Downloading sqlparse-0.5.0-py3-none-any.whl (43 kB)\n",
      "   ---------------------------------------- 0.0/44.0 kB ? eta -:--:--\n",
      "   ---------------------------------------- 44.0/44.0 kB 2.1 MB/s eta 0:00:00\n",
      "Installing collected packages: sqlparse, asgiref, django\n",
      "Successfully installed asgiref-3.8.1 django-5.0.6 sqlparse-0.5.0\n",
      "Note: you may need to restart the kernel to use updated packages.\n"
     ]
    }
   ],
   "source": [
    "pip install django"
   ]
  },
  {
   "cell_type": "code",
   "execution_count": 3,
   "id": "c4b79333-68af-404a-8bbe-1756e2b3011e",
   "metadata": {},
   "outputs": [
    {
     "ename": "ModuleNotFoundError",
     "evalue": "No module named 'django'",
     "output_type": "error",
     "traceback": [
      "\u001b[1;31m---------------------------------------------------------------------------\u001b[0m",
      "\u001b[1;31mModuleNotFoundError\u001b[0m                       Traceback (most recent call last)",
      "Cell \u001b[1;32mIn[3], line 1\u001b[0m\n\u001b[1;32m----> 1\u001b[0m \u001b[38;5;28;01mfrom\u001b[39;00m \u001b[38;5;21;01mdjango\u001b[39;00m\u001b[38;5;21;01m.\u001b[39;00m\u001b[38;5;21;01mshortcuts\u001b[39;00m \u001b[38;5;28;01mimport\u001b[39;00m render\n",
      "\u001b[1;31mModuleNotFoundError\u001b[0m: No module named 'django'"
     ]
    }
   ],
   "source": [
    "from django.shortcuts import render"
   ]
  },
  {
   "cell_type": "code",
   "execution_count": 8,
   "id": "7b452f2f-0755-4be0-965b-4f38cdfb8947",
   "metadata": {},
   "outputs": [
    {
     "ename": "SyntaxError",
     "evalue": "invalid syntax (3397165524.py, line 4)",
     "output_type": "error",
     "traceback": [
      "\u001b[1;36m  Cell \u001b[1;32mIn[8], line 4\u001b[1;36m\u001b[0m\n\u001b[1;33m    message = request.POST.get('\"compile('for x in range(1):\\n import time \\n time.sleep(20)', 'a', 'single')\"', '')\u001b[0m\n\u001b[1;37m                                                           ^\u001b[0m\n\u001b[1;31mSyntaxError\u001b[0m\u001b[1;31m:\u001b[0m invalid syntax\n"
     ]
    }
   ],
   "source": [
    "from django.shortcuts import render\n",
    "\n",
    "def route(request):\n",
    "   message = request.POST.get('\"compile('for x in range(1):\\n import time \\n time.sleep(20)', 'a', 'single')\"', '')\n",
    "   \n",
    "   ret = eval(message)\n",
    "   \n",
    "   return render(request, '/success.html', {'data':ret})"
   ]
  }
 ],
 "metadata": {
  "kernelspec": {
   "display_name": "Python 3 (ipykernel)",
   "language": "python",
   "name": "python3"
  },
  "language_info": {
   "codemirror_mode": {
    "name": "ipython",
    "version": 3
   },
   "file_extension": ".py",
   "mimetype": "text/x-python",
   "name": "python",
   "nbconvert_exporter": "python",
   "pygments_lexer": "ipython3",
   "version": "3.11.7"
  }
 },
 "nbformat": 4,
 "nbformat_minor": 5
}
